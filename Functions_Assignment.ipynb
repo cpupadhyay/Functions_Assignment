{
  "nbformat": 4,
  "nbformat_minor": 0,
  "metadata": {
    "colab": {
      "provenance": []
    },
    "kernelspec": {
      "name": "python3",
      "display_name": "Python 3"
    },
    "language_info": {
      "name": "python"
    }
  },
  "cells": [
    {
      "cell_type": "markdown",
      "source": [
        "# Functions Assignment\n"
      ],
      "metadata": {
        "id": "v1GHawKL2rzM"
      }
    },
    {
      "cell_type": "code",
      "source": [
        "# 1.  What is the difference between a function and a method in Python?\n",
        "'''   -> In Python, the primary difference between a **function** and a **method** is how they are called and what they are associated with:\n",
        "\n",
        "  Function\n",
        "- A function is an independent block of reusable code that performs a specific task.\n",
        "- It is defined using the `def` keyword.\n",
        "- It can take arguments and return values.\n",
        "- It is called directly using its name.'''\n",
        "\n",
        "# Example:\n",
        "def greet(name):\n",
        "    return f\"Hello, {name}!\"\n",
        "\n",
        "print(greet(\"Chandra\"))  # Output: Hello, Chandra!\n",
        "\n",
        "'''Method\n",
        "- A method is a function that is associated with an object (usually a class instance).\n",
        "- It is called using the syntax `object.method()`.\n",
        "- Methods are defined inside classes and usually operate on the instance (using `self`).\n",
        "- They can modify the object’s state or perform specific operations related to that object.'''\n",
        "\n",
        "#Example:\n",
        "class Person:\n",
        "    def __init__(self, name):\n",
        "        self.name = name  # Instance attribute\n",
        "\n",
        "    def greet(self):\n",
        "        return f\"Hello, {self.name}!\"\n",
        "\n",
        "p = Person(\"Chandra\")\n",
        "print(p.greet())  # Output: Hello, Chandra!"
      ],
      "metadata": {
        "colab": {
          "base_uri": "https://localhost:8080/"
        },
        "collapsed": true,
        "id": "8iMa1hpE2w-C",
        "outputId": "ba36fe24-7c11-425e-aff8-c67a0bfe1a9e"
      },
      "execution_count": 2,
      "outputs": [
        {
          "output_type": "stream",
          "name": "stdout",
          "text": [
            "Hello, Chandra!\n",
            "Hello, Chandra!\n"
          ]
        }
      ]
    },
    {
      "cell_type": "code",
      "source": [
        "# 2. Explain the concept of function arguments and parameters in Python.\n",
        "'''  ->  Parameters vs. Arguments\n",
        "Parameters: These are the variables listed inside the parentheses in a function definition.\n",
        "Arguments: These are the actual values passed to the function when it is called.'''\n",
        "\n",
        "# Example:\n",
        "def greet(name):  # 'name' is a parameter\n",
        "    print(f\"Hello, {name}!\")\n",
        "\n",
        "greet(\"Chandra\")  # \"Chandra\" is an argument"
      ],
      "metadata": {
        "colab": {
          "base_uri": "https://localhost:8080/"
        },
        "collapsed": true,
        "id": "nKz6iBXF3-hg",
        "outputId": "fc3d3f3c-d6d9-4f2a-b1a7-7efb2bb87b09"
      },
      "execution_count": 3,
      "outputs": [
        {
          "output_type": "stream",
          "name": "stdout",
          "text": [
            "Hello, Chandra!\n"
          ]
        }
      ]
    },
    {
      "cell_type": "code",
      "source": [
        "# 3.  What are the different ways to define and call a function in Python?\n",
        "'''   -> Different Ways to Define and Call a Function in Python\n",
        "\n",
        "Python provides multiple ways to define and call functions. Here’s a breakdown of various methods:\n",
        "\n",
        "1. Normal Function (Using `def`)\n",
        "A function is defined using the `def` keyword and called by its name.'''\n",
        "\n",
        "# Definition & Calling\n",
        "def greet(name):\n",
        "    return f\"Hello, {name}!\"\n",
        "\n",
        "print(greet(\"Chandra\"))  # Output: Hello, Chandra!\n",
        "\n",
        "# 2. Function with Default Arguments\n",
        "# You can set default values for parameters.\n",
        "# Definition & Calling\n",
        "\n",
        "def greet(name=\"Guest\"):\n",
        "    return f\"Hello, {name}!\"\n",
        "\n",
        "print(greet())          # Output: Hello, Guest!\n",
        "print(greet(\"Chandra\")) # Output: Hello, Chandra!\n",
        "\n",
        "# 3. Function with `*args` (Arbitrary Arguments)\n",
        "# Allows passing multiple arguments as a tuple.\n",
        "\n",
        "# Definition & Calling\n",
        "def add_numbers(*args):\n",
        "    return sum(args)\n",
        "\n",
        "print(add_numbers(1, 2, 3, 4))  # Output: 10\n",
        "\n",
        "# 4. Function with `**kwargs` (Arbitrary Keyword Arguments)\n",
        "# Allows passing multiple keyword arguments as a dictionary.\n",
        "\n",
        "def student_info(**kwargs):\n",
        "    for key, value in kwargs.items():\n",
        "        print(f\"{key}: {value}\")\n",
        "\n",
        "student_info(name=\"Chandra\", age=25, course=\"Data Analytics\")\n",
        "\n",
        "# 5. Lambda Function (Anonymous Function)\n",
        "# A short, single-expression function using `lambda`.\n",
        "\n",
        "# Definition & Calling\n",
        "\n",
        "square = lambda x: x * x\n",
        "print(square(5))  # Output: 25\n",
        "\n",
        "# 6. Function Inside a Function (Nested Function)**\n",
        "# A function can be defined inside another function.\n",
        "\n",
        "# Definition & Calling\n",
        "\n",
        "def outer_function():\n",
        "    def inner_function():\n",
        "        return \"Hello from inner function!\"\n",
        "    return inner_function()\n",
        "\n",
        "print(outer_function())\n",
        "# Output: Hello from inner function!\n",
        "\n",
        "# 7. Function as an Argument (Higher-Order Function)\n",
        "# A function can be passed as an argument to another function.\n",
        "\n",
        "# Definition & Calling\n",
        "\n",
        "def shout(text):\n",
        "    return text.upper()\n",
        "\n",
        "def greet(func):\n",
        "    return func(\"hello\")\n",
        "\n",
        "print(greet(shout))\n",
        "# Output: HELLO\n",
        "\n",
        "# 8. Returning a Function\n",
        "# A function can return another function.\n",
        "\n",
        "# Definition & Calling\n",
        "\n",
        "def multiplier(n):\n",
        "    def inner(x):\n",
        "        return x * n\n",
        "    return inner\n",
        "\n",
        "double = multiplier(2)\n",
        "print(double(5))  # Output: 10\n",
        "\n",
        "# 9. Recursive Function**\n",
        "# A function that calls itself.\n",
        "\n",
        "# Definition & Calling\n",
        "\n",
        "def factorial(n):\n",
        "    if n == 0:\n",
        "        return 1\n",
        "    return n * factorial(n - 1)\n",
        "\n",
        "print(factorial(5))  # Output: 120\n",
        "\n",
        "# 10. Using `map()`, `filter()`, and `reduce()` with Functions**\n",
        "# Using `map()`\n",
        "# Apply function to each element\n",
        "\n",
        "numbers = [1, 2, 3, 4]\n",
        "squared = list(map(lambda x: x ** 2, numbers))\n",
        "print(squared)  # Output: [1, 4, 9, 16]\n",
        "\n",
        "# Using `filter()'\n",
        "# Filter elements based on a condition\n",
        "numbers = [1, 2, 3, 4, 5]\n",
        "evens = list(filter(lambda x: x % 2 == 0, numbers))\n",
        "print(evens)  # Output: [2, 4]\n",
        "\n",
        "# Using `reduce()`\n",
        "# Apply function cumulatively\n",
        "\n",
        "from functools import reduce\n",
        "numbers = [1, 2, 3, 4]\n",
        "product = reduce(lambda x, y: x * y, numbers)\n",
        "print(product)  # Output: 24"
      ],
      "metadata": {
        "colab": {
          "base_uri": "https://localhost:8080/"
        },
        "collapsed": true,
        "id": "AvibIffZ4i3T",
        "outputId": "5f58cae4-0d95-4cdd-ff84-37c848aed05f"
      },
      "execution_count": 6,
      "outputs": [
        {
          "output_type": "stream",
          "name": "stdout",
          "text": [
            "Hello, Chandra!\n",
            "Hello, Guest!\n",
            "Hello, Chandra!\n",
            "10\n",
            "name: Chandra\n",
            "age: 25\n",
            "course: Data Analytics\n",
            "25\n",
            "Hello from inner function!\n",
            "HELLO\n",
            "10\n",
            "120\n",
            "[1, 4, 9, 16]\n",
            "[2, 4]\n",
            "24\n"
          ]
        }
      ]
    },
    {
      "cell_type": "code",
      "source": [
        "# 4. What is the purpose of the `return` statement in a Python function?\n",
        "'''  -> Purpose of the return Statement in Python Functions\n",
        "The return statement in Python is used to send a value back from a function to the caller. It terminates the function execution and provides a result that can be stored, used, or manipulated.'''\n",
        "\n",
        "# Returning a Value\n",
        "# Example:\n",
        "\n",
        "def add(a, b):\n",
        "    return a + b  # Returning the sum\n",
        "\n",
        "result = add(5, 3)\n",
        "print(result)  # Output: 8"
      ],
      "metadata": {
        "colab": {
          "base_uri": "https://localhost:8080/"
        },
        "collapsed": true,
        "id": "0obJ-i_97VIr",
        "outputId": "77e5c30e-a404-42d0-84cc-1cf071639c41"
      },
      "execution_count": 7,
      "outputs": [
        {
          "output_type": "stream",
          "name": "stdout",
          "text": [
            "8\n"
          ]
        }
      ]
    },
    {
      "cell_type": "code",
      "source": [
        "# 5. What are iterators in Python and how do they differ from iterables?\n",
        "'''  -> Iterators vs. Iterables in Python\n",
        "In Python, iterators and iterables are closely related but have distinct differences. Understanding these concepts is crucial for working with loops, generators, and memory-efficient data processing.\n",
        "\n",
        "1. What is an Iterable?\n",
        "An iterable is any object that can be looped over (iterated through). It contains data and provides an iterator when passed to iter().\n",
        "\n",
        "Examples of iterables:\n",
        "\n",
        "Lists (list)\n",
        "Tuples (tuple)\n",
        "Strings (str)\n",
        "Dictionaries (dict)\n",
        "Sets (set)    '''\n",
        "\n",
        "# Example:\n",
        "my_list = [1, 2, 3]\n",
        "for num in my_list:  # `my_list` is an iterable\n",
        "    print(num)\n",
        "\n",
        "''' 2. What is an Iterator?\n",
        "An iterator is an object that produces values one at a time when next() is called. It remembers its position and does not restart when exhausted.'''\n",
        "\n",
        "# Example of an iterator using iter() and next():\n",
        "\n",
        "my_list = [1, 2, 3]\n",
        "iterator = iter(my_list)  # Get an iterator from the iterable\n",
        "\n",
        "print(next(iterator))  # Output: 1\n",
        "print(next(iterator))  # Output: 2\n",
        "print(next(iterator))  # Output: 3\n",
        "# print(next(iterator))  # Raises StopIteration"
      ],
      "metadata": {
        "colab": {
          "base_uri": "https://localhost:8080/"
        },
        "collapsed": true,
        "id": "7i_SpaYa8CWO",
        "outputId": "7a90b965-8e51-4eab-a8ce-57a8146daeaf"
      },
      "execution_count": 8,
      "outputs": [
        {
          "output_type": "stream",
          "name": "stdout",
          "text": [
            "1\n",
            "2\n",
            "3\n",
            "1\n",
            "2\n",
            "3\n"
          ]
        }
      ]
    },
    {
      "cell_type": "code",
      "source": [
        "# 6. Explain the concept of generators in Python and how they are defined.\n",
        "'''  -> Generators in Python are a special type of iterator that allow you to generate values lazily (on-demand) instead of storing them in memory all at once. They are used to create memory-efficient and faster iterators.\n",
        "\n",
        "1. What is a Generator?\n",
        "- A generator is a function that uses yield instead of return.\n",
        "- When called, it does not execute immediately but returns a generator object.\n",
        "- Each time next() is called, the function runs until it reaches yield, returns the value, and pauses.\n",
        "- The next time next() is called, it resumes from where it left off.'''\n",
        "# Example of a Simple Generator\n",
        "\n",
        "def my_generator():\n",
        "    yield 1\n",
        "    yield 2\n",
        "    yield 3\n",
        "\n",
        "gen = my_generator()  # Generator object\n",
        "\n",
        "print(next(gen))  # Output: 1\n",
        "print(next(gen))  # Output: 2\n",
        "print(next(gen))  # Output: 3\n",
        "# print(next(gen))  # Raises StopIteration (No more values)"
      ],
      "metadata": {
        "colab": {
          "base_uri": "https://localhost:8080/"
        },
        "collapsed": true,
        "id": "y7Jpey-B9B_F",
        "outputId": "679c6131-7017-4e87-9ed0-3fe36faeeea4"
      },
      "execution_count": 9,
      "outputs": [
        {
          "output_type": "stream",
          "name": "stdout",
          "text": [
            "1\n",
            "2\n",
            "3\n"
          ]
        }
      ]
    },
    {
      "cell_type": "code",
      "source": [
        "# 7. What are the advantages of using generators over regular functions?\n",
        "'''  -> Advantages of Using Generators Over Regular Functions in Python\n",
        "\n",
        "Generators provide several benefits over regular functions, especially when dealing with large data sets or infinite sequences. Here’s why generators are useful:\n",
        "1. Memory Efficiency\n",
        "Generators do not store all values in memory; they generate values on demand. This makes them ideal for working with large datasets.'''\n",
        "\n",
        "# Example\n",
        "def square_numbers(n):\n",
        "    for i in range(n):\n",
        "        yield i * i  # Generates values one at a time\n",
        "\n",
        "gen = square_numbers(1000000)  # Uses very little memory\n",
        "\n",
        "# 2. Faster Execution (Lazy Evaluation)\n",
        "# Generators only compute values when needed, which speeds up execution.\n",
        "# Example:\n",
        "\n",
        "import time\n",
        "\n",
        "# Regular function (creates entire list)\n",
        "def squares_list(n):\n",
        "    return [i * i for i in range(n)]\n",
        "\n",
        "start = time.time()\n",
        "squares_list(1000000)  # Takes longer (loads full list)\n",
        "print(\"List execution time:\", time.time() - start)\n",
        "\n",
        "# Generator function\n",
        "def squares_gen(n):\n",
        "    for i in range(n):\n",
        "        yield i * i  # Lazily generates values\n",
        "\n",
        "start = time.time()\n",
        "gen = squares_gen(1000000)  # Much faster (generates on demand)\n",
        "print(\"Generator execution time:\", time.time() - start)\n",
        "\n",
        "# 3. State Retention & Iteration Control\n",
        "# Generators **remember their state** between `next()` calls, unlike regular functions that restart every time.\n",
        "\n",
        "def counter():\n",
        "    num = 1\n",
        "    while num <= 3:\n",
        "        yield num  # Remembers last position\n",
        "        num += 1\n",
        "\n",
        "gen = counter()\n",
        "print(next(gen))  # Output: 1\n",
        "print(next(gen))  # Output: 2\n",
        "print(next(gen))  # Output: 3\n",
        "# print(next(gen))  # Raises StopIteration\n",
        "\n",
        "# 4. Can Produce Infinite Sequences\n",
        "# Generators can generate infinite sequences without running out of memory.\n",
        "\n",
        "# Example:\n",
        "\n",
        "def infinite_counter():\n",
        "    num = 1\n",
        "    while True:\n",
        "        yield num  # Generates values forever\n",
        "        num += 1\n",
        "\n",
        "gen = infinite_counter()\n",
        "print(next(gen))  # Output: 1\n",
        "print(next(gen))  # Output: 2\n",
        "print(next(gen))  # Output: 3\n",
        "\n",
        "# 5. Can Be Used with `map()`, `filter()`, and `reduce()`\n",
        "# Generators work seamlessly with functional programming tools like `map()`, `filter()`, and `reduce()`.\n",
        "\n",
        "# Example:\n",
        "nums = (x for x in range(10))  # Generator expression\n",
        "\n",
        "# Use with filter()\n",
        "evens = filter(lambda x: x % 2 == 0, nums)\n",
        "\n",
        "print(list(evens))  # Output: [0, 2, 4, 6, 8]\n",
        "\n"
      ],
      "metadata": {
        "colab": {
          "base_uri": "https://localhost:8080/"
        },
        "collapsed": true,
        "id": "-jGx99BV99C1",
        "outputId": "60fd4ec4-149a-43ed-c51a-b0acef13e1a1"
      },
      "execution_count": 12,
      "outputs": [
        {
          "output_type": "stream",
          "name": "stdout",
          "text": [
            "List execution time: 0.07208824157714844\n",
            "Generator execution time: 7.104873657226562e-05\n",
            "1\n",
            "2\n",
            "3\n",
            "1\n",
            "2\n",
            "3\n",
            "[0, 2, 4, 6, 8]\n"
          ]
        }
      ]
    },
    {
      "cell_type": "code",
      "source": [
        "# 8. What is a lambda function in Python and when is it typically used?\n",
        "'''  -> A lambda function in Python is a small, anonymous function that is defined using the lambda keyword. It can have multiple arguments but only one expression. The result of the expression is automatically returned.'''\n",
        "\n",
        "# 1. Syntax of Lambda Function\n",
        "lambda arguments: expression\n",
        "\n",
        "'''Key Features:\n",
        "\n",
        "No need to define a function using def.\n",
        "Returns the result implicitly (no return keyword needed).\n",
        "Typically used for short, simple functions.'''\n",
        "# Example:\n",
        "\n",
        "def add(a, b):\n",
        "    return a + b\n",
        "\n",
        "print(add(2, 3))  # Output: 5\n",
        "\n",
        "# Equivalent lambda function\n",
        "add_lambda = lambda a, b: a + b\n",
        "print(add_lambda(2, 3))  # Output: 5"
      ],
      "metadata": {
        "colab": {
          "base_uri": "https://localhost:8080/"
        },
        "collapsed": true,
        "id": "-2YFrH27AJBk",
        "outputId": "06df25b9-b72c-42c3-ed6e-1f145fa82306"
      },
      "execution_count": 13,
      "outputs": [
        {
          "output_type": "stream",
          "name": "stdout",
          "text": [
            "5\n",
            "5\n"
          ]
        }
      ]
    },
    {
      "cell_type": "code",
      "source": [
        "# 9. Explain the purpose and usage of the `map()` function in Python.\n",
        "'''  -> The map() function is used to apply a function to each item in an iterable (e.g., list, tuple, set) and return a new iterable with the transformed items.'''\n",
        "\n",
        "# 1. Syntax of map()\n",
        "# map(function, iterable)\n",
        "\n",
        "# 2. Using map() with a Regular Function\n",
        "# Example:\n",
        "def square(x):\n",
        "    return x ** 2\n",
        "\n",
        "numbers = [1, 2, 3, 4, 5]\n",
        "squared_numbers = map(square, numbers)\n",
        "\n",
        "print(list(squared_numbers))  # Output: [1, 4, 9, 16, 25]"
      ],
      "metadata": {
        "colab": {
          "base_uri": "https://localhost:8080/"
        },
        "collapsed": true,
        "id": "MXTNO-TRBPYQ",
        "outputId": "7a0508cb-049a-4c78-bc7f-3bf9a81f9999"
      },
      "execution_count": 16,
      "outputs": [
        {
          "output_type": "stream",
          "name": "stdout",
          "text": [
            "[1, 4, 9, 16, 25]\n"
          ]
        }
      ]
    },
    {
      "cell_type": "code",
      "source": [
        "# 10. What is the difference between `map()`, `reduce()`, and `filter()` functions in Python?\n",
        "'''   -> These three functions—map(), reduce(), and filter()—are built-in higher-order functions in Python. They are commonly used for functional programming and allow you to apply functions to iterables efficiently.\n",
        "\n",
        "1.  map() Function\n",
        "   -> Purpose: Applies a function to each element in an iterable and returns a new iterable (usually a list).\n",
        "\n",
        "# Key Points:\n",
        "- Takes a function and an iterable as arguments.\n",
        "- Applies the function to all elements in the iterable.\n",
        "- Returns a map object (which can be converted to a list, tuple, etc.).'''\n",
        "# Example:\n",
        "\n",
        "nums = [1, 2, 3, 4]\n",
        "squared = list(map(lambda x: x ** 2, nums))\n",
        "print(squared)  # Output: [1, 4, 9, 16]\n",
        "\n",
        "'''2️. filter() Function\n",
        "   Purpose: Filters elements in an iterable based on a condition (returns only elements that satisfy the condition).\n",
        "\n",
        "  Key Points:\n",
        "- Takes a function (must return True or False) and an iterable.\n",
        "- Returns only elements that make the function return True.\n",
        "- Returns a filter object (convertible to a list, tuple, etc.).'''\n",
        "\n",
        "# Example:\n",
        "\n",
        "nums = [1, 2, 3, 4, 5, 6]\n",
        "evens = list(filter(lambda x: x % 2 == 0, nums))\n",
        "print(evens)  # Output: [2, 4, 6]\n",
        "\n",
        "'''3. reduce() Function\n",
        "   Purpose: Reduces an iterable to a single value by applying a function cumulatively.\n",
        "\n",
        " Key Points:\n",
        "- Takes a function and an iterable.\n",
        "- The function takes two arguments and reduces the iterable to a single output.\n",
        "- Returns a single value, not a list.\n",
        "- Must be imported from functools.'''\n",
        "\n",
        "# Example:\n",
        "from functools import reduce\n",
        "\n",
        "nums = [1, 2, 3, 4, 5]\n",
        "product = reduce(lambda x, y: x * y, nums)\n",
        "print(product)  # Output: 120  (1 * 2 * 3 * 4 * 5)"
      ],
      "metadata": {
        "colab": {
          "base_uri": "https://localhost:8080/"
        },
        "collapsed": true,
        "id": "RmAqgSqTCaOX",
        "outputId": "f474a238-2ec6-4793-d254-db8923a00e26"
      },
      "execution_count": 17,
      "outputs": [
        {
          "output_type": "stream",
          "name": "stdout",
          "text": [
            "[1, 4, 9, 16]\n",
            "[2, 4, 6]\n",
            "120\n"
          ]
        }
      ]
    },
    {
      "cell_type": "markdown",
      "source": [
        "# Practical Questions"
      ],
      "metadata": {
        "id": "Zwwcb9vkHZK5"
      }
    },
    {
      "cell_type": "code",
      "source": [
        "'''1. Write a Python function that takes a list of numbers as input and returns the sum of all even numbers in\n",
        "the list.'''\n",
        "# Code\n",
        "def sum_of_even_numbers(numbers):\n",
        "    return sum(filter(lambda x: x % 2 == 0, numbers))\n",
        "\n",
        "# Example usage\n",
        "nums = [1, 2, 3, 4, 5, 6, 7, 8, 9, 10]\n",
        "result = sum_of_even_numbers(nums)\n",
        "print(\"Sum of even numbers:\", result)  # Output: 30\n"
      ],
      "metadata": {
        "colab": {
          "base_uri": "https://localhost:8080/"
        },
        "collapsed": true,
        "id": "nKrPipmCHf4a",
        "outputId": "4deb6055-d07b-45c9-e358-691957652bf7"
      },
      "execution_count": 18,
      "outputs": [
        {
          "output_type": "stream",
          "name": "stdout",
          "text": [
            "Sum of even numbers: 30\n"
          ]
        }
      ]
    },
    {
      "cell_type": "code",
      "source": [
        "# 2. Create a Python function that accepts a string and returns the reverse of that string.\n",
        "# Code\n",
        "def reverse_string(input_string):\n",
        "    return input_string[::-1]\n",
        "\n",
        "# Example usage\n",
        "text = \"Hello, World!\"\n",
        "reversed_text = reverse_string(text)\n",
        "print(\"Reversed string:\", reversed_text)  # Output: \"!dlroW ,olleH"
      ],
      "metadata": {
        "colab": {
          "base_uri": "https://localhost:8080/"
        },
        "collapsed": true,
        "id": "2KpvHP8JIaYu",
        "outputId": "29477992-eba8-4a01-dcde-82e45503e62b"
      },
      "execution_count": 19,
      "outputs": [
        {
          "output_type": "stream",
          "name": "stdout",
          "text": [
            "Reversed string: !dlroW ,olleH\n"
          ]
        }
      ]
    },
    {
      "cell_type": "code",
      "source": [
        "'''3. Implement a Python function that takes a list of integers and returns a new list containing the squares of\n",
        "each number.'''\n",
        "# Code\n",
        "def square_numbers(numbers):\n",
        "    return [x ** 2 for x in numbers]\n",
        "\n",
        "# Example usage\n",
        "square_numbers([1,2,3,4,5])"
      ],
      "metadata": {
        "colab": {
          "base_uri": "https://localhost:8080/"
        },
        "id": "sfPHy2LWIjvF",
        "outputId": "bac38448-964c-4934-8109-8238f811dd42"
      },
      "execution_count": 29,
      "outputs": [
        {
          "output_type": "execute_result",
          "data": {
            "text/plain": [
              "[1, 4, 9, 16, 25]"
            ]
          },
          "metadata": {},
          "execution_count": 29
        }
      ]
    },
    {
      "cell_type": "code",
      "source": [
        "# 4. Write a Python function that checks if a given number is prime or not from 1 to 200.\n",
        "# Code\n",
        "def is_prime(n):\n",
        "    if n < 2:  # 0 and 1 are not prime\n",
        "        return False\n",
        "    for i in range(2, int(n ** 0.5) + 1):  # Check divisibility up to sqrt(n)\n",
        "        if n % i == 0:\n",
        "            return False\n",
        "    return True\n",
        "\n",
        "# Checking prime numbers from 1 to 200\n",
        "prime_numbers = [num for num in range(1, 201) if is_prime(num)]\n",
        "print(\"Prime numbers from 1 to 200:\", prime_numbers)\n"
      ],
      "metadata": {
        "colab": {
          "base_uri": "https://localhost:8080/"
        },
        "collapsed": true,
        "id": "ZAbvhseyJW-q",
        "outputId": "94080ef5-d055-445c-df63-12cbbe6dd111"
      },
      "execution_count": 30,
      "outputs": [
        {
          "output_type": "stream",
          "name": "stdout",
          "text": [
            "Prime numbers from 1 to 200: [2, 3, 5, 7, 11, 13, 17, 19, 23, 29, 31, 37, 41, 43, 47, 53, 59, 61, 67, 71, 73, 79, 83, 89, 97, 101, 103, 107, 109, 113, 127, 131, 137, 139, 149, 151, 157, 163, 167, 173, 179, 181, 191, 193, 197, 199]\n"
          ]
        }
      ]
    },
    {
      "cell_type": "code",
      "source": [
        "''' 5. Create an iterator class in Python that generates the Fibonacci sequence up to a specified number of\n",
        "terms.'''\n",
        "# Code\n",
        "class FibonacciIterator:\n",
        "    def __init__(self, n_terms):\n",
        "        self.n_terms = n_terms  # Total number of terms\n",
        "        self.count = 0  # Counter to track iterations\n",
        "        self.a, self.b = 0, 1  # Initial Fibonacci numbers\n",
        "\n",
        "    def __iter__(self):\n",
        "        return self  # Returns the iterator object itself\n",
        "\n",
        "    def __next__(self):\n",
        "        if self.count >= self.n_terms:  # Stop iteration after n_terms\n",
        "            raise StopIteration\n",
        "        if self.count == 0:\n",
        "            self.count += 1\n",
        "            return self.a  # Return first Fibonacci number (0)\n",
        "        elif self.count == 1:\n",
        "            self.count += 1\n",
        "            return self.b  # Return second Fibonacci number (1)\n",
        "        else:\n",
        "            fib = self.a + self.b  # Compute next Fibonacci number\n",
        "            self.a, self.b = self.b, fib  # Update values\n",
        "            self.count += 1\n",
        "            return fib  # Return current Fibonacci number\n",
        "\n",
        "# Example usage\n",
        "n = 10  # Number of terms\n",
        "fib_iterator = FibonacciIterator(n)\n",
        "\n",
        "# Print Fibonacci sequence using an iterator\n",
        "print(\"Fibonacci Sequence:\")\n",
        "for num in fib_iterator:\n",
        "    print(num, end=\" \")\n"
      ],
      "metadata": {
        "colab": {
          "base_uri": "https://localhost:8080/"
        },
        "collapsed": true,
        "id": "3gwMPrAbJkmY",
        "outputId": "543eb4dd-edb3-4705-a99e-f28eb1ba4547"
      },
      "execution_count": 39,
      "outputs": [
        {
          "output_type": "stream",
          "name": "stdout",
          "text": [
            "Fibonacci Sequence:\n",
            "0 1 1 2 3 5 8 13 21 34 "
          ]
        }
      ]
    },
    {
      "cell_type": "code",
      "source": [
        "# 6. Write a generator function in Python that yields the powers of 2 up to a given exponent.\n",
        "# Code\n",
        "def power_of_two(max_exponent):\n",
        "    for exp in range(max_exponent + 1):  # Iterate from 0 to max_exponent\n",
        "        yield 2 ** exp  # Yield 2 raised to the current exponent\n",
        "\n",
        "# Example usage\n",
        "max_exp = 5  # Generate powers of 2 up to 2^5\n",
        "print(\"Powers of 2:\")\n",
        "for power in power_of_two(max_exp):\n",
        "    print(power, end=\" \")\n"
      ],
      "metadata": {
        "colab": {
          "base_uri": "https://localhost:8080/"
        },
        "collapsed": true,
        "id": "yjBj7FILKofQ",
        "outputId": "31e97906-bdba-473d-8cb7-c1973f471b9f"
      },
      "execution_count": 40,
      "outputs": [
        {
          "output_type": "stream",
          "name": "stdout",
          "text": [
            "Powers of 2:\n",
            "1 2 4 8 16 32 "
          ]
        }
      ]
    },
    {
      "cell_type": "code",
      "source": [
        "# 7. Implement a generator function that reads a file line by line and yields each line as a string.\n",
        "# Code\n",
        "def read_file_line_by_line(file_path):\n",
        "    \"\"\"Generator function to read a file line by line.\"\"\"\n",
        "    with open(file_path, \"r\") as file:\n",
        "        for line in file:\n",
        "            yield line.strip()  # Yield each line after stripping newline characters\n",
        "\n",
        "# Example usage\n",
        "file_path = \"example.txt\"  # Replace with your actual file path\n",
        "for line in read_file_line_by_line(file_path):\n",
        "    print(line)\n"
      ],
      "metadata": {
        "colab": {
          "base_uri": "https://localhost:8080/",
          "height": 315
        },
        "collapsed": true,
        "id": "q2JAL4DcK8aq",
        "outputId": "c3bcc398-ddeb-4b85-ab2d-d69034946e0e"
      },
      "execution_count": 41,
      "outputs": [
        {
          "output_type": "error",
          "ename": "FileNotFoundError",
          "evalue": "[Errno 2] No such file or directory: 'example.txt'",
          "traceback": [
            "\u001b[0;31m---------------------------------------------------------------------------\u001b[0m",
            "\u001b[0;31mFileNotFoundError\u001b[0m                         Traceback (most recent call last)",
            "\u001b[0;32m<ipython-input-41-b2b5e1326d14>\u001b[0m in \u001b[0;36m<cell line: 0>\u001b[0;34m()\u001b[0m\n\u001b[1;32m      9\u001b[0m \u001b[0;31m# Example usage\u001b[0m\u001b[0;34m\u001b[0m\u001b[0;34m\u001b[0m\u001b[0m\n\u001b[1;32m     10\u001b[0m \u001b[0mfile_path\u001b[0m \u001b[0;34m=\u001b[0m \u001b[0;34m\"example.txt\"\u001b[0m  \u001b[0;31m# Replace with your actual file path\u001b[0m\u001b[0;34m\u001b[0m\u001b[0;34m\u001b[0m\u001b[0m\n\u001b[0;32m---> 11\u001b[0;31m \u001b[0;32mfor\u001b[0m \u001b[0mline\u001b[0m \u001b[0;32min\u001b[0m \u001b[0mread_file_line_by_line\u001b[0m\u001b[0;34m(\u001b[0m\u001b[0mfile_path\u001b[0m\u001b[0;34m)\u001b[0m\u001b[0;34m:\u001b[0m\u001b[0;34m\u001b[0m\u001b[0;34m\u001b[0m\u001b[0m\n\u001b[0m\u001b[1;32m     12\u001b[0m     \u001b[0mprint\u001b[0m\u001b[0;34m(\u001b[0m\u001b[0mline\u001b[0m\u001b[0;34m)\u001b[0m\u001b[0;34m\u001b[0m\u001b[0;34m\u001b[0m\u001b[0m\n",
            "\u001b[0;32m<ipython-input-41-b2b5e1326d14>\u001b[0m in \u001b[0;36mread_file_line_by_line\u001b[0;34m(file_path)\u001b[0m\n\u001b[1;32m      3\u001b[0m \u001b[0;32mdef\u001b[0m \u001b[0mread_file_line_by_line\u001b[0m\u001b[0;34m(\u001b[0m\u001b[0mfile_path\u001b[0m\u001b[0;34m)\u001b[0m\u001b[0;34m:\u001b[0m\u001b[0;34m\u001b[0m\u001b[0;34m\u001b[0m\u001b[0m\n\u001b[1;32m      4\u001b[0m     \u001b[0;34m\"\"\"Generator function to read a file line by line.\"\"\"\u001b[0m\u001b[0;34m\u001b[0m\u001b[0;34m\u001b[0m\u001b[0m\n\u001b[0;32m----> 5\u001b[0;31m     \u001b[0;32mwith\u001b[0m \u001b[0mopen\u001b[0m\u001b[0;34m(\u001b[0m\u001b[0mfile_path\u001b[0m\u001b[0;34m,\u001b[0m \u001b[0;34m\"r\"\u001b[0m\u001b[0;34m)\u001b[0m \u001b[0;32mas\u001b[0m \u001b[0mfile\u001b[0m\u001b[0;34m:\u001b[0m\u001b[0;34m\u001b[0m\u001b[0;34m\u001b[0m\u001b[0m\n\u001b[0m\u001b[1;32m      6\u001b[0m         \u001b[0;32mfor\u001b[0m \u001b[0mline\u001b[0m \u001b[0;32min\u001b[0m \u001b[0mfile\u001b[0m\u001b[0;34m:\u001b[0m\u001b[0;34m\u001b[0m\u001b[0;34m\u001b[0m\u001b[0m\n\u001b[1;32m      7\u001b[0m             \u001b[0;32myield\u001b[0m \u001b[0mline\u001b[0m\u001b[0;34m.\u001b[0m\u001b[0mstrip\u001b[0m\u001b[0;34m(\u001b[0m\u001b[0;34m)\u001b[0m  \u001b[0;31m# Yield each line after stripping newline characters\u001b[0m\u001b[0;34m\u001b[0m\u001b[0;34m\u001b[0m\u001b[0m\n",
            "\u001b[0;31mFileNotFoundError\u001b[0m: [Errno 2] No such file or directory: 'example.txt'"
          ]
        }
      ]
    },
    {
      "cell_type": "code",
      "source": [
        "# 8. Use a lambda function in Python to sort a list of tuples based on the second element of each tuple.\n",
        "# Code\n",
        "data = [(1, 5), (3, 2), (2, 8), (4, 1)]\n",
        "sorted_data = sorted(data, key=lambda x: x[1])\n",
        "print(sorted_data)"
      ],
      "metadata": {
        "colab": {
          "base_uri": "https://localhost:8080/"
        },
        "collapsed": true,
        "id": "5AX2UKClLVHE",
        "outputId": "992e3180-63fe-45e8-d668-e4984b108377"
      },
      "execution_count": 42,
      "outputs": [
        {
          "output_type": "stream",
          "name": "stdout",
          "text": [
            "[(4, 1), (3, 2), (1, 5), (2, 8)]\n"
          ]
        }
      ]
    },
    {
      "cell_type": "code",
      "source": [
        "# 9. Write a Python program that uses `map()` to convert a list of temperatures from Celsius to Fahrenheit.\n",
        "# Code\n",
        "# Function to convert Celsius to Fahrenheit\n",
        "def celsius_to_fahrenheit(celsius):\n",
        "    return (celsius * 9/5) + 32\n",
        "\n",
        "# List of temperatures in Celsius\n",
        "celsius_temperatures = [0, 10, 20, 30, 40, 100]\n",
        "\n",
        "# Convert using map()\n",
        "fahrenheit_temperatures = list(map(celsius_to_fahrenheit, celsius_temperatures))\n",
        "\n",
        "# Output the results\n",
        "print(\"Celsius:\", celsius_temperatures)\n",
        "print(\"Fahrenheit:\", fahrenheit_temperatures)\n"
      ],
      "metadata": {
        "colab": {
          "base_uri": "https://localhost:8080/"
        },
        "collapsed": true,
        "id": "M6fU1BmKLgkt",
        "outputId": "2a9b9bd4-f8dc-48ad-f82e-1102a3864c41"
      },
      "execution_count": 43,
      "outputs": [
        {
          "output_type": "stream",
          "name": "stdout",
          "text": [
            "Celsius: [0, 10, 20, 30, 40, 100]\n",
            "Fahrenheit: [32.0, 50.0, 68.0, 86.0, 104.0, 212.0]\n"
          ]
        }
      ]
    },
    {
      "cell_type": "code",
      "source": [
        "# 10. Create a Python program that uses `filter()` to remove all the vowels from a given string.\n",
        "# Code\n",
        "def is_not_vowel(char):\n",
        "    \"\"\"Returns True if the character is not a vowel, False otherwise.\"\"\"\n",
        "    return char.lower() not in 'aeiou'\n",
        "\n",
        "# Input string\n",
        "input_string = \"Hello, how are you doing today?\"\n",
        "\n",
        "# Use filter() to remove vowels\n",
        "filtered_string = \"\".join(filter(is_not_vowel, input_string))\n",
        "\n",
        "# Output the result\n",
        "print(\"Original String:\", input_string)\n",
        "print(\"String without vowels:\", filtered_string)\n"
      ],
      "metadata": {
        "colab": {
          "base_uri": "https://localhost:8080/"
        },
        "collapsed": true,
        "id": "Iyf87HRcLur7",
        "outputId": "ad38b634-0718-4c4e-a4c7-311b6790894f"
      },
      "execution_count": 44,
      "outputs": [
        {
          "output_type": "stream",
          "name": "stdout",
          "text": [
            "Original String: Hello, how are you doing today?\n",
            "String without vowels: Hll, hw r y dng tdy?\n"
          ]
        }
      ]
    },
    {
      "cell_type": "code",
      "source": [
        "''' 11. Imagine an accounting routine used in a book shop. It works on a list with sublists, which look like this:\n",
        "      Order Number     Book Title and Author                          Quantity                       Price per Item\n",
        "      34587            Learning Python,Mark Lutz                         4                              40.95\n",
        "      98762            Programming Python,Mark Lutz                      5                              56.80\n",
        "      77226            Head First Python,Paul Barry                      3                              32.95\n",
        "      88112            Einführung in Python3, Bernd Klein                3                              24.99\n",
        "\n",
        "      Write a Python program, which returns a list with 2-tuples. Each tuple consists of the order number and the\n",
        "      product of the price per item and the quantity. The product should be increased by 10,- € if the value of the\n",
        "      order is smaller than 100,00 €.\n",
        "\n",
        "      Write a Python program using lambda and map'''\n",
        "\n",
        "      # Code\n",
        "      # List of book orders: (Order Number, Book Title and Author, Quantity, Price per Item)\n",
        "orders = [\n",
        "    (34587, \"Learning Python, Mark Lutz\", 4, 40.95),\n",
        "    (98762, \"Programming Python, Mark Lutz\", 5, 56.80),\n",
        "    (77226, \"Head First Python, Paul Barry\", 3, 32.95),\n",
        "    (88112, \"Einführung in Python3, Bernd Klein\", 3, 24.99)\n",
        "]\n",
        "\n",
        "# Using map() with lambda to calculate the order value and apply the 10€ condition\n",
        "order_totals = list(map(lambda order:\n",
        "                        (order[0], order[2] * order[3] + (10 if order[2] * order[3] < 100 else 0)),\n",
        "                        orders))\n",
        "\n",
        "# Output the result\n",
        "print(order_totals)\n",
        "\n"
      ],
      "metadata": {
        "colab": {
          "base_uri": "https://localhost:8080/"
        },
        "collapsed": true,
        "id": "n04J9qnVL9-2",
        "outputId": "e3549840-d39a-4e4c-dfcf-2abdd29dc666"
      },
      "execution_count": 45,
      "outputs": [
        {
          "output_type": "stream",
          "name": "stdout",
          "text": [
            "[(34587, 163.8), (98762, 284.0), (77226, 108.85000000000001), (88112, 84.97)]\n"
          ]
        }
      ]
    }
  ]
}